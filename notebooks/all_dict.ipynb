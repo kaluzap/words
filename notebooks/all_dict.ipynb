{
 "cells": [
  {
   "cell_type": "code",
   "execution_count": 2,
   "metadata": {},
   "outputs": [],
   "source": [
    "import pandas as pd"
   ]
  },
  {
   "cell_type": "markdown",
   "metadata": {},
   "source": [
    "# Loadig data files"
   ]
  },
  {
   "cell_type": "code",
   "execution_count": 24,
   "metadata": {},
   "outputs": [],
   "source": [
    "data_files = [\"../data/data_nouns_ge_sp.csv\", \n",
    "              '../data/data_verbs_ge_sp.csv',\n",
    "              '../data/data_adjectives_ge_sp.csv',\n",
    "              '../data/data_adverbs_ge_sp.csv']"
   ]
  },
  {
   "cell_type": "code",
   "execution_count": 26,
   "metadata": {},
   "outputs": [],
   "source": [
    "df = []\n",
    "for x in data_files:\n",
    "    df_temp = pd.read_csv(x)\n",
    "    if 'nouns' in x:\n",
    "        df_temp['word'] = df_temp.apply(lambda row: row['plural'] if row['singular']=='-' else row['singular'], axis=1)\n",
    "        #rename(columns={\"A\": \"a\", \"B\": \"b\", \"C\": \"c\"}\n",
    "    elif 'adverbs' in x:\n",
    "        df_temp['word'] = df_temp['adverb']\n",
    "    elif 'verbs' in x:\n",
    "        df_temp['word'] = df_temp['infinitive']\n",
    "    elif 'adjectives' in x:\n",
    "        df_temp['word'] = df_temp['adjective']\n",
    "    df.append(df_temp[['word', 'translation', 'mistakes']])\n",
    "df = pd.concat(df).reset_index(drop=True)"
   ]
  },
  {
   "cell_type": "code",
   "execution_count": 28,
   "metadata": {},
   "outputs": [
    {
     "data": {
      "text/html": [
       "<div>\n",
       "<style scoped>\n",
       "    .dataframe tbody tr th:only-of-type {\n",
       "        vertical-align: middle;\n",
       "    }\n",
       "\n",
       "    .dataframe tbody tr th {\n",
       "        vertical-align: top;\n",
       "    }\n",
       "\n",
       "    .dataframe thead th {\n",
       "        text-align: right;\n",
       "    }\n",
       "</style>\n",
       "<table border=\"1\" class=\"dataframe\">\n",
       "  <thead>\n",
       "    <tr style=\"text-align: right;\">\n",
       "      <th></th>\n",
       "      <th>word</th>\n",
       "      <th>translation</th>\n",
       "      <th>mistakes</th>\n",
       "    </tr>\n",
       "  </thead>\n",
       "  <tbody>\n",
       "    <tr>\n",
       "      <th>1721</th>\n",
       "      <td>zudem</td>\n",
       "      <td>además</td>\n",
       "      <td>11</td>\n",
       "    </tr>\n",
       "    <tr>\n",
       "      <th>1722</th>\n",
       "      <td>zweitens</td>\n",
       "      <td>en segundo lugar</td>\n",
       "      <td>11</td>\n",
       "    </tr>\n",
       "    <tr>\n",
       "      <th>1723</th>\n",
       "      <td>öfter</td>\n",
       "      <td>más frecuente</td>\n",
       "      <td>11</td>\n",
       "    </tr>\n",
       "    <tr>\n",
       "      <th>1724</th>\n",
       "      <td>überall</td>\n",
       "      <td>en todas partes</td>\n",
       "      <td>11</td>\n",
       "    </tr>\n",
       "    <tr>\n",
       "      <th>1725</th>\n",
       "      <td>übermorgen</td>\n",
       "      <td>pasado mañana</td>\n",
       "      <td>11</td>\n",
       "    </tr>\n",
       "  </tbody>\n",
       "</table>\n",
       "</div>"
      ],
      "text/plain": [
       "            word       translation  mistakes\n",
       "1721       zudem            además        11\n",
       "1722    zweitens  en segundo lugar        11\n",
       "1723       öfter     más frecuente        11\n",
       "1724     überall   en todas partes        11\n",
       "1725  übermorgen     pasado mañana        11"
      ]
     },
     "execution_count": 28,
     "metadata": {},
     "output_type": "execute_result"
    }
   ],
   "source": [
    "df.tail()"
   ]
  },
  {
   "cell_type": "markdown",
   "metadata": {},
   "source": [
    "# Exporting data file as new dict"
   ]
  },
  {
   "cell_type": "code",
   "execution_count": 29,
   "metadata": {},
   "outputs": [],
   "source": [
    "df.to_csv('../data/data_all_ge_sp.csv', index=False, quoting=2)\n"
   ]
  }
 ],
 "metadata": {
  "kernelspec": {
   "display_name": "Python 3",
   "language": "python",
   "name": "python3"
  },
  "language_info": {
   "codemirror_mode": {
    "name": "ipython",
    "version": 3
   },
   "file_extension": ".py",
   "mimetype": "text/x-python",
   "name": "python",
   "nbconvert_exporter": "python",
   "pygments_lexer": "ipython3",
   "version": "3.6.9"
  }
 },
 "nbformat": 4,
 "nbformat_minor": 4
}
