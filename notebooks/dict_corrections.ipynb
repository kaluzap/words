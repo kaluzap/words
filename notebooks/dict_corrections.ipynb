{
 "cells": [
  {
   "cell_type": "code",
   "execution_count": 1,
   "metadata": {},
   "outputs": [],
   "source": [
    "import pandas as pd"
   ]
  },
  {
   "cell_type": "markdown",
   "metadata": {},
   "source": [
    "# File with nouns"
   ]
  },
  {
   "cell_type": "code",
   "execution_count": 4,
   "metadata": {},
   "outputs": [],
   "source": [
    "file_nouns = \"../data/data_nouns_ge_sp.csv\""
   ]
  },
  {
   "cell_type": "code",
   "execution_count": 5,
   "metadata": {},
   "outputs": [
    {
     "data": {
      "text/plain": [
       "(1166, 5)"
      ]
     },
     "execution_count": 5,
     "metadata": {},
     "output_type": "execute_result"
    }
   ],
   "source": [
    "df_nouns = pd.read_csv(file_nouns)\n",
    "df_nouns.sort_values(by=['singular','plural'], inplace=True)\n",
    "df_nouns.shape"
   ]
  },
  {
   "cell_type": "code",
   "execution_count": 6,
   "metadata": {},
   "outputs": [
    {
     "data": {
      "text/html": [
       "<div>\n",
       "<style scoped>\n",
       "    .dataframe tbody tr th:only-of-type {\n",
       "        vertical-align: middle;\n",
       "    }\n",
       "\n",
       "    .dataframe tbody tr th {\n",
       "        vertical-align: top;\n",
       "    }\n",
       "\n",
       "    .dataframe thead th {\n",
       "        text-align: right;\n",
       "    }\n",
       "</style>\n",
       "<table border=\"1\" class=\"dataframe\">\n",
       "  <thead>\n",
       "    <tr style=\"text-align: right;\">\n",
       "      <th></th>\n",
       "      <th>singular</th>\n",
       "      <th>plural</th>\n",
       "      <th>gender</th>\n",
       "      <th>translation</th>\n",
       "      <th>mistakes</th>\n",
       "    </tr>\n",
       "  </thead>\n",
       "  <tbody>\n",
       "    <tr>\n",
       "      <th>0</th>\n",
       "      <td>-</td>\n",
       "      <td>Eltern</td>\n",
       "      <td>p</td>\n",
       "      <td>padres</td>\n",
       "      <td>1</td>\n",
       "    </tr>\n",
       "    <tr>\n",
       "      <th>1</th>\n",
       "      <td>-</td>\n",
       "      <td>Ferien</td>\n",
       "      <td>p</td>\n",
       "      <td>vacaciones</td>\n",
       "      <td>6</td>\n",
       "    </tr>\n",
       "    <tr>\n",
       "      <th>2</th>\n",
       "      <td>-</td>\n",
       "      <td>Geschwister</td>\n",
       "      <td>p</td>\n",
       "      <td>hermanos</td>\n",
       "      <td>1</td>\n",
       "    </tr>\n",
       "    <tr>\n",
       "      <th>3</th>\n",
       "      <td>-</td>\n",
       "      <td>Kenntnisse</td>\n",
       "      <td>p</td>\n",
       "      <td>conocimientos</td>\n",
       "      <td>2</td>\n",
       "    </tr>\n",
       "    <tr>\n",
       "      <th>4</th>\n",
       "      <td>-</td>\n",
       "      <td>Kosten</td>\n",
       "      <td>p</td>\n",
       "      <td>costos</td>\n",
       "      <td>1</td>\n",
       "    </tr>\n",
       "  </tbody>\n",
       "</table>\n",
       "</div>"
      ],
      "text/plain": [
       "  singular       plural gender    translation  mistakes\n",
       "0        -       Eltern      p         padres         1\n",
       "1        -       Ferien      p     vacaciones         6\n",
       "2        -  Geschwister      p       hermanos         1\n",
       "3        -   Kenntnisse      p  conocimientos         2\n",
       "4        -       Kosten      p         costos         1"
      ]
     },
     "execution_count": 6,
     "metadata": {},
     "output_type": "execute_result"
    }
   ],
   "source": [
    "df_nouns.head()"
   ]
  },
  {
   "cell_type": "code",
   "execution_count": 7,
   "metadata": {},
   "outputs": [
    {
     "data": {
      "text/html": [
       "<div>\n",
       "<style scoped>\n",
       "    .dataframe tbody tr th:only-of-type {\n",
       "        vertical-align: middle;\n",
       "    }\n",
       "\n",
       "    .dataframe tbody tr th {\n",
       "        vertical-align: top;\n",
       "    }\n",
       "\n",
       "    .dataframe thead th {\n",
       "        text-align: right;\n",
       "    }\n",
       "</style>\n",
       "<table border=\"1\" class=\"dataframe\">\n",
       "  <thead>\n",
       "    <tr style=\"text-align: right;\">\n",
       "      <th></th>\n",
       "      <th>singular</th>\n",
       "      <th>plural</th>\n",
       "      <th>gender</th>\n",
       "      <th>translation</th>\n",
       "      <th>mistakes</th>\n",
       "    </tr>\n",
       "  </thead>\n",
       "  <tbody>\n",
       "    <tr>\n",
       "      <th>165</th>\n",
       "      <td>Brand</td>\n",
       "      <td>-</td>\n",
       "      <td>m</td>\n",
       "      <td>gangrena, necrosis</td>\n",
       "      <td>1</td>\n",
       "    </tr>\n",
       "    <tr>\n",
       "      <th>166</th>\n",
       "      <td>Brand</td>\n",
       "      <td>Brände</td>\n",
       "      <td>m</td>\n",
       "      <td>fuego, incendio, sed</td>\n",
       "      <td>1</td>\n",
       "    </tr>\n",
       "    <tr>\n",
       "      <th>399</th>\n",
       "      <td>Gewicht</td>\n",
       "      <td>-</td>\n",
       "      <td>n</td>\n",
       "      <td>peso, importancia</td>\n",
       "      <td>10</td>\n",
       "    </tr>\n",
       "    <tr>\n",
       "      <th>400</th>\n",
       "      <td>Gewicht</td>\n",
       "      <td>Gewichte</td>\n",
       "      <td>f</td>\n",
       "      <td>pesa</td>\n",
       "      <td>11</td>\n",
       "    </tr>\n",
       "    <tr>\n",
       "      <th>832</th>\n",
       "      <td>Schimmel</td>\n",
       "      <td>-</td>\n",
       "      <td>m</td>\n",
       "      <td>moho</td>\n",
       "      <td>8</td>\n",
       "    </tr>\n",
       "    <tr>\n",
       "      <th>833</th>\n",
       "      <td>Schimmel</td>\n",
       "      <td>Schimmel</td>\n",
       "      <td>m</td>\n",
       "      <td>caballo blanco</td>\n",
       "      <td>1</td>\n",
       "    </tr>\n",
       "    <tr>\n",
       "      <th>860</th>\n",
       "      <td>Schuld</td>\n",
       "      <td>-</td>\n",
       "      <td>f</td>\n",
       "      <td>culpa</td>\n",
       "      <td>1</td>\n",
       "    </tr>\n",
       "    <tr>\n",
       "      <th>861</th>\n",
       "      <td>Schuld</td>\n",
       "      <td>Schulden</td>\n",
       "      <td>f</td>\n",
       "      <td>deuda</td>\n",
       "      <td>1</td>\n",
       "    </tr>\n",
       "    <tr>\n",
       "      <th>1079</th>\n",
       "      <td>Wehr</td>\n",
       "      <td>Wehre</td>\n",
       "      <td>n</td>\n",
       "      <td>dique, presa</td>\n",
       "      <td>2</td>\n",
       "    </tr>\n",
       "    <tr>\n",
       "      <th>1080</th>\n",
       "      <td>Wehr</td>\n",
       "      <td>Wehren</td>\n",
       "      <td>f</td>\n",
       "      <td>defensa</td>\n",
       "      <td>1</td>\n",
       "    </tr>\n",
       "  </tbody>\n",
       "</table>\n",
       "</div>"
      ],
      "text/plain": [
       "      singular    plural gender           translation  mistakes\n",
       "165      Brand         -      m    gangrena, necrosis         1\n",
       "166      Brand    Brände      m  fuego, incendio, sed         1\n",
       "399    Gewicht         -      n     peso, importancia        10\n",
       "400    Gewicht  Gewichte      f                  pesa        11\n",
       "832   Schimmel         -      m                  moho         8\n",
       "833   Schimmel  Schimmel      m        caballo blanco         1\n",
       "860     Schuld         -      f                 culpa         1\n",
       "861     Schuld  Schulden      f                 deuda         1\n",
       "1079      Wehr     Wehre      n          dique, presa         2\n",
       "1080      Wehr    Wehren      f               defensa         1"
      ]
     },
     "execution_count": 7,
     "metadata": {},
     "output_type": "execute_result"
    }
   ],
   "source": [
    "df_nouns[df_nouns.duplicated(subset=[\"singular\"],keep=False) & (df_nouns['singular']!='-')]"
   ]
  },
  {
   "cell_type": "code",
   "execution_count": 8,
   "metadata": {},
   "outputs": [
    {
     "data": {
      "text/html": [
       "<div>\n",
       "<style scoped>\n",
       "    .dataframe tbody tr th:only-of-type {\n",
       "        vertical-align: middle;\n",
       "    }\n",
       "\n",
       "    .dataframe tbody tr th {\n",
       "        vertical-align: top;\n",
       "    }\n",
       "\n",
       "    .dataframe thead th {\n",
       "        text-align: right;\n",
       "    }\n",
       "</style>\n",
       "<table border=\"1\" class=\"dataframe\">\n",
       "  <thead>\n",
       "    <tr style=\"text-align: right;\">\n",
       "      <th></th>\n",
       "      <th>singular</th>\n",
       "      <th>plural</th>\n",
       "      <th>gender</th>\n",
       "      <th>translation</th>\n",
       "      <th>mistakes</th>\n",
       "    </tr>\n",
       "  </thead>\n",
       "  <tbody>\n",
       "  </tbody>\n",
       "</table>\n",
       "</div>"
      ],
      "text/plain": [
       "Empty DataFrame\n",
       "Columns: [singular, plural, gender, translation, mistakes]\n",
       "Index: []"
      ]
     },
     "execution_count": 8,
     "metadata": {},
     "output_type": "execute_result"
    }
   ],
   "source": [
    "df_nouns[df_nouns.duplicated(subset=[\"plural\"],keep=False) & (df_nouns['plural']!='-')]"
   ]
  }
 ],
 "metadata": {
  "kernelspec": {
   "display_name": "Python 3",
   "language": "python",
   "name": "python3"
  },
  "language_info": {
   "codemirror_mode": {
    "name": "ipython",
    "version": 3
   },
   "file_extension": ".py",
   "mimetype": "text/x-python",
   "name": "python",
   "nbconvert_exporter": "python",
   "pygments_lexer": "ipython3",
   "version": "3.6.9"
  }
 },
 "nbformat": 4,
 "nbformat_minor": 4
}
